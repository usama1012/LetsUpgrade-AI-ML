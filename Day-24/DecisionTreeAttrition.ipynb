{
 "cells": [
  {
   "cell_type": "code",
   "execution_count": 1,
   "metadata": {},
   "outputs": [],
   "source": [
    "import pandas as pd\n",
    "import numpy as np\n",
    "from sklearn import tree\n",
    "from sklearn import preprocessing"
   ]
  },
  {
   "cell_type": "code",
   "execution_count": 2,
   "metadata": {},
   "outputs": [],
   "source": [
    "from sklearn.ensemble import RandomForestClassifier"
   ]
  },
  {
   "cell_type": "code",
   "execution_count": 3,
   "metadata": {},
   "outputs": [],
   "source": [
    "tree_model=tree.DecisionTreeClassifier(max_depth=8)"
   ]
  },
  {
   "cell_type": "code",
   "execution_count": 4,
   "metadata": {},
   "outputs": [],
   "source": [
    "label_encoder=preprocessing.LabelEncoder()"
   ]
  },
  {
   "cell_type": "code",
   "execution_count": 5,
   "metadata": {},
   "outputs": [],
   "source": [
    "attrition=pd.read_csv(\"general_data.csv\")"
   ]
  },
  {
   "cell_type": "code",
   "execution_count": 6,
   "metadata": {},
   "outputs": [],
   "source": [
    "attrition[\"Attrition\"]=label_encoder.fit_transform(attrition[\"Attrition\"])\n",
    "attrition[\"Gender\"]=label_encoder.fit_transform(attrition[\"Gender\"])\n",
    "attrition[\"JobRole\"]=label_encoder.fit_transform(attrition[\"JobRole\"])\n",
    "attrition[\"MaritalStatus\"]=label_encoder.fit_transform(attrition[\"MaritalStatus\"])\n",
    "attrition[\"BusinessTravel\"]=label_encoder.fit_transform(attrition[\"BusinessTravel\"])\n",
    "attrition[\"Department\"]=label_encoder.fit_transform(attrition[\"Department\"])\n",
    "attrition[\"EducationField\"]=label_encoder.fit_transform(attrition[\"EducationField\"])"
   ]
  },
  {
   "cell_type": "code",
   "execution_count": 7,
   "metadata": {},
   "outputs": [
    {
     "data": {
      "text/html": [
       "<div>\n",
       "<style scoped>\n",
       "    .dataframe tbody tr th:only-of-type {\n",
       "        vertical-align: middle;\n",
       "    }\n",
       "\n",
       "    .dataframe tbody tr th {\n",
       "        vertical-align: top;\n",
       "    }\n",
       "\n",
       "    .dataframe thead th {\n",
       "        text-align: right;\n",
       "    }\n",
       "</style>\n",
       "<table border=\"1\" class=\"dataframe\">\n",
       "  <thead>\n",
       "    <tr style=\"text-align: right;\">\n",
       "      <th></th>\n",
       "      <th>Age</th>\n",
       "      <th>Attrition</th>\n",
       "      <th>BusinessTravel</th>\n",
       "      <th>Department</th>\n",
       "      <th>DistanceFromHome</th>\n",
       "      <th>Education</th>\n",
       "      <th>EducationField</th>\n",
       "      <th>EmployeeCount</th>\n",
       "      <th>EmployeeID</th>\n",
       "      <th>Gender</th>\n",
       "      <th>...</th>\n",
       "      <th>NumCompaniesWorked</th>\n",
       "      <th>Over18</th>\n",
       "      <th>PercentSalaryHike</th>\n",
       "      <th>StandardHours</th>\n",
       "      <th>StockOptionLevel</th>\n",
       "      <th>TotalWorkingYears</th>\n",
       "      <th>TrainingTimesLastYear</th>\n",
       "      <th>YearsAtCompany</th>\n",
       "      <th>YearsSinceLastPromotion</th>\n",
       "      <th>YearsWithCurrManager</th>\n",
       "    </tr>\n",
       "  </thead>\n",
       "  <tbody>\n",
       "    <tr>\n",
       "      <th>0</th>\n",
       "      <td>51</td>\n",
       "      <td>0</td>\n",
       "      <td>2</td>\n",
       "      <td>2</td>\n",
       "      <td>6</td>\n",
       "      <td>2</td>\n",
       "      <td>1</td>\n",
       "      <td>1</td>\n",
       "      <td>1</td>\n",
       "      <td>0</td>\n",
       "      <td>...</td>\n",
       "      <td>1.0</td>\n",
       "      <td>Y</td>\n",
       "      <td>11</td>\n",
       "      <td>8</td>\n",
       "      <td>0</td>\n",
       "      <td>1.0</td>\n",
       "      <td>6</td>\n",
       "      <td>1</td>\n",
       "      <td>0</td>\n",
       "      <td>0</td>\n",
       "    </tr>\n",
       "    <tr>\n",
       "      <th>1</th>\n",
       "      <td>31</td>\n",
       "      <td>1</td>\n",
       "      <td>1</td>\n",
       "      <td>1</td>\n",
       "      <td>10</td>\n",
       "      <td>1</td>\n",
       "      <td>1</td>\n",
       "      <td>1</td>\n",
       "      <td>2</td>\n",
       "      <td>0</td>\n",
       "      <td>...</td>\n",
       "      <td>0.0</td>\n",
       "      <td>Y</td>\n",
       "      <td>23</td>\n",
       "      <td>8</td>\n",
       "      <td>1</td>\n",
       "      <td>6.0</td>\n",
       "      <td>3</td>\n",
       "      <td>5</td>\n",
       "      <td>1</td>\n",
       "      <td>4</td>\n",
       "    </tr>\n",
       "    <tr>\n",
       "      <th>2</th>\n",
       "      <td>32</td>\n",
       "      <td>0</td>\n",
       "      <td>1</td>\n",
       "      <td>1</td>\n",
       "      <td>17</td>\n",
       "      <td>4</td>\n",
       "      <td>4</td>\n",
       "      <td>1</td>\n",
       "      <td>3</td>\n",
       "      <td>1</td>\n",
       "      <td>...</td>\n",
       "      <td>1.0</td>\n",
       "      <td>Y</td>\n",
       "      <td>15</td>\n",
       "      <td>8</td>\n",
       "      <td>3</td>\n",
       "      <td>5.0</td>\n",
       "      <td>2</td>\n",
       "      <td>5</td>\n",
       "      <td>0</td>\n",
       "      <td>3</td>\n",
       "    </tr>\n",
       "    <tr>\n",
       "      <th>3</th>\n",
       "      <td>38</td>\n",
       "      <td>0</td>\n",
       "      <td>0</td>\n",
       "      <td>1</td>\n",
       "      <td>2</td>\n",
       "      <td>5</td>\n",
       "      <td>1</td>\n",
       "      <td>1</td>\n",
       "      <td>4</td>\n",
       "      <td>1</td>\n",
       "      <td>...</td>\n",
       "      <td>3.0</td>\n",
       "      <td>Y</td>\n",
       "      <td>11</td>\n",
       "      <td>8</td>\n",
       "      <td>3</td>\n",
       "      <td>13.0</td>\n",
       "      <td>5</td>\n",
       "      <td>8</td>\n",
       "      <td>7</td>\n",
       "      <td>5</td>\n",
       "    </tr>\n",
       "    <tr>\n",
       "      <th>4</th>\n",
       "      <td>32</td>\n",
       "      <td>0</td>\n",
       "      <td>2</td>\n",
       "      <td>1</td>\n",
       "      <td>10</td>\n",
       "      <td>1</td>\n",
       "      <td>3</td>\n",
       "      <td>1</td>\n",
       "      <td>5</td>\n",
       "      <td>1</td>\n",
       "      <td>...</td>\n",
       "      <td>4.0</td>\n",
       "      <td>Y</td>\n",
       "      <td>12</td>\n",
       "      <td>8</td>\n",
       "      <td>2</td>\n",
       "      <td>9.0</td>\n",
       "      <td>2</td>\n",
       "      <td>6</td>\n",
       "      <td>0</td>\n",
       "      <td>4</td>\n",
       "    </tr>\n",
       "  </tbody>\n",
       "</table>\n",
       "<p>5 rows × 24 columns</p>\n",
       "</div>"
      ],
      "text/plain": [
       "   Age  Attrition  BusinessTravel  Department  DistanceFromHome  Education  \\\n",
       "0   51          0               2           2                 6          2   \n",
       "1   31          1               1           1                10          1   \n",
       "2   32          0               1           1                17          4   \n",
       "3   38          0               0           1                 2          5   \n",
       "4   32          0               2           1                10          1   \n",
       "\n",
       "   EducationField  EmployeeCount  EmployeeID  Gender  ...  NumCompaniesWorked  \\\n",
       "0               1              1           1       0  ...                 1.0   \n",
       "1               1              1           2       0  ...                 0.0   \n",
       "2               4              1           3       1  ...                 1.0   \n",
       "3               1              1           4       1  ...                 3.0   \n",
       "4               3              1           5       1  ...                 4.0   \n",
       "\n",
       "   Over18  PercentSalaryHike  StandardHours  StockOptionLevel  \\\n",
       "0       Y                 11              8                 0   \n",
       "1       Y                 23              8                 1   \n",
       "2       Y                 15              8                 3   \n",
       "3       Y                 11              8                 3   \n",
       "4       Y                 12              8                 2   \n",
       "\n",
       "  TotalWorkingYears  TrainingTimesLastYear  YearsAtCompany  \\\n",
       "0               1.0                      6               1   \n",
       "1               6.0                      3               5   \n",
       "2               5.0                      2               5   \n",
       "3              13.0                      5               8   \n",
       "4               9.0                      2               6   \n",
       "\n",
       "   YearsSinceLastPromotion  YearsWithCurrManager  \n",
       "0                        0                     0  \n",
       "1                        1                     4  \n",
       "2                        0                     3  \n",
       "3                        7                     5  \n",
       "4                        0                     4  \n",
       "\n",
       "[5 rows x 24 columns]"
      ]
     },
     "execution_count": 7,
     "metadata": {},
     "output_type": "execute_result"
    }
   ],
   "source": [
    "attrition.head()"
   ]
  },
  {
   "cell_type": "code",
   "execution_count": 8,
   "metadata": {},
   "outputs": [],
   "source": [
    "rf_model=RandomForestClassifier(n_estimators=1000,max_features=2,oob_score=True)"
   ]
  },
  {
   "cell_type": "code",
   "execution_count": 9,
   "metadata": {},
   "outputs": [
    {
     "data": {
      "text/plain": [
       "Index(['Age', 'Attrition', 'BusinessTravel', 'Department', 'DistanceFromHome',\n",
       "       'Education', 'EducationField', 'EmployeeCount', 'EmployeeID', 'Gender',\n",
       "       'JobLevel', 'JobRole', 'MaritalStatus', 'MonthlyIncome',\n",
       "       'NumCompaniesWorked', 'Over18', 'PercentSalaryHike', 'StandardHours',\n",
       "       'StockOptionLevel', 'TotalWorkingYears', 'TrainingTimesLastYear',\n",
       "       'YearsAtCompany', 'YearsSinceLastPromotion', 'YearsWithCurrManager'],\n",
       "      dtype='object')"
      ]
     },
     "execution_count": 9,
     "metadata": {},
     "output_type": "execute_result"
    }
   ],
   "source": [
    "attrition.columns"
   ]
  },
  {
   "cell_type": "code",
   "execution_count": 10,
   "metadata": {},
   "outputs": [],
   "source": [
    "features=pd.DataFrame([attrition[\"Age\"],attrition[\"BusinessTravel\"],attrition[\"Department\"],attrition[\"DistanceFromHome\"],attrition[\"Gender\"],attrition[\"JobRole\"],attrition[\"MaritalStatus\"],attrition[\"MonthlyIncome\"],attrition[\"PercentSalaryHike\"],attrition[\"YearsSinceLastPromotion\"],attrition[\"YearsWithCurrManager\"]]).T"
   ]
  },
  {
   "cell_type": "code",
   "execution_count": 11,
   "metadata": {},
   "outputs": [
    {
     "data": {
      "text/plain": [
       "RandomForestClassifier(bootstrap=True, ccp_alpha=0.0, class_weight=None,\n",
       "                       criterion='gini', max_depth=None, max_features=2,\n",
       "                       max_leaf_nodes=None, max_samples=None,\n",
       "                       min_impurity_decrease=0.0, min_impurity_split=None,\n",
       "                       min_samples_leaf=1, min_samples_split=2,\n",
       "                       min_weight_fraction_leaf=0.0, n_estimators=1000,\n",
       "                       n_jobs=None, oob_score=True, random_state=None,\n",
       "                       verbose=0, warm_start=False)"
      ]
     },
     "execution_count": 11,
     "metadata": {},
     "output_type": "execute_result"
    }
   ],
   "source": [
    "rf_model.fit(X=features,y=attrition[\"Attrition\"])"
   ]
  },
  {
   "cell_type": "code",
   "execution_count": 12,
   "metadata": {},
   "outputs": [
    {
     "name": "stdout",
     "output_type": "stream",
     "text": [
      "OOB Accuracy\n",
      "1.0\n"
     ]
    }
   ],
   "source": [
    "print(\"OOB Accuracy\")\n",
    "print(rf_model.oob_score_);"
   ]
  },
  {
   "cell_type": "code",
   "execution_count": 13,
   "metadata": {},
   "outputs": [
    {
     "name": "stdout",
     "output_type": "stream",
     "text": [
      "Age 0.16634442155092724\n",
      "BusinessTravel 0.03998942723516103\n",
      "Department 0.042445564138517265\n",
      "DistanceFromHome 0.12001704328976914\n",
      "Gender 0.028632749888306046\n",
      "JobRole 0.09267107650494126\n",
      "MaritalStatus 0.051783163415662296\n",
      "MonthlyIncome 0.16862921652234755\n",
      "PercentSalaryHike 0.11050297171386571\n",
      "YearsSinceLastPromotion 0.07475443143858058\n",
      "YearsWithCurrManager 0.10422993430192186\n"
     ]
    }
   ],
   "source": [
    "for feature,imp in zip(features,rf_model.feature_importances_):\n",
    "    print(feature,imp)"
   ]
  },
  {
   "cell_type": "code",
   "execution_count": 14,
   "metadata": {},
   "outputs": [
    {
     "data": {
      "text/plain": [
       "Age                        0\n",
       "Attrition                  0\n",
       "BusinessTravel             0\n",
       "Department                 0\n",
       "DistanceFromHome           0\n",
       "Education                  0\n",
       "EducationField             0\n",
       "EmployeeCount              0\n",
       "EmployeeID                 0\n",
       "Gender                     0\n",
       "JobLevel                   0\n",
       "JobRole                    0\n",
       "MaritalStatus              0\n",
       "MonthlyIncome              0\n",
       "NumCompaniesWorked         0\n",
       "Over18                     0\n",
       "PercentSalaryHike          0\n",
       "StandardHours              0\n",
       "StockOptionLevel           0\n",
       "TotalWorkingYears          0\n",
       "TrainingTimesLastYear      0\n",
       "YearsAtCompany             0\n",
       "YearsSinceLastPromotion    0\n",
       "YearsWithCurrManager       0\n",
       "dtype: int64"
      ]
     },
     "execution_count": 14,
     "metadata": {},
     "output_type": "execute_result"
    }
   ],
   "source": [
    "attrition.isnull().isnull().sum()"
   ]
  },
  {
   "cell_type": "code",
   "execution_count": 15,
   "metadata": {},
   "outputs": [],
   "source": [
    "predictors=pd.DataFrame([attrition[\"Age\"],attrition[\"MonthlyIncome\"],attrition[\"PercentSalaryHike\"]]).T"
   ]
  },
  {
   "cell_type": "code",
   "execution_count": 16,
   "metadata": {},
   "outputs": [
    {
     "data": {
      "text/plain": [
       "DecisionTreeClassifier(ccp_alpha=0.0, class_weight=None, criterion='gini',\n",
       "                       max_depth=8, max_features=None, max_leaf_nodes=None,\n",
       "                       min_impurity_decrease=0.0, min_impurity_split=None,\n",
       "                       min_samples_leaf=1, min_samples_split=2,\n",
       "                       min_weight_fraction_leaf=0.0, presort='deprecated',\n",
       "                       random_state=None, splitter='best')"
      ]
     },
     "execution_count": 16,
     "metadata": {},
     "output_type": "execute_result"
    }
   ],
   "source": [
    "tree_model.fit(X=predictors,y=attrition[\"Attrition\"])"
   ]
  },
  {
   "cell_type": "code",
   "execution_count": 17,
   "metadata": {},
   "outputs": [],
   "source": [
    "with open(\"Attrition.dot\",'w') as f:\n",
    "    f=tree.export_graphviz(tree_model,feature_names=[\"Sex\",\"Age\",\"Fare\"],out_file=f)\n"
   ]
  },
  {
   "cell_type": "code",
   "execution_count": 18,
   "metadata": {},
   "outputs": [
    {
     "data": {
      "text/plain": [
       "0.8829931972789116"
      ]
     },
     "execution_count": 18,
     "metadata": {},
     "output_type": "execute_result"
    }
   ],
   "source": [
    "tree_model.score(X=predictors,y=attrition[\"Attrition\"])"
   ]
  },
  {
   "cell_type": "markdown",
   "metadata": {},
   "source": [
    "### The model is 88.29931972789116% Accurate and Hence can be used to decide the reason behind the attritotion pattern of the company"
   ]
  },
  {
   "cell_type": "code",
   "execution_count": 24,
   "metadata": {},
   "outputs": [],
   "source": [
    "feature=[\"Age\",\"MonthlyIncome\",\"PercentSalaryHike\"]"
   ]
  },
  {
   "cell_type": "code",
   "execution_count": 25,
   "metadata": {},
   "outputs": [],
   "source": [
    "from sklearn.tree import export_text"
   ]
  },
  {
   "cell_type": "code",
   "execution_count": 27,
   "metadata": {},
   "outputs": [
    {
     "name": "stdout",
     "output_type": "stream",
     "text": [
      "|--- Age <= 33.50\n",
      "|   |--- Age <= 21.50\n",
      "|   |   |--- MonthlyIncome <= 182405.00\n",
      "|   |   |   |--- MonthlyIncome <= 50545.00\n",
      "|   |   |   |   |--- MonthlyIncome <= 42000.00\n",
      "|   |   |   |   |   |--- PercentSalaryHike <= 16.50\n",
      "|   |   |   |   |   |   |--- MonthlyIncome <= 28270.00\n",
      "|   |   |   |   |   |   |   |--- MonthlyIncome <= 23140.00\n",
      "|   |   |   |   |   |   |   |   |--- class: 0\n",
      "|   |   |   |   |   |   |   |--- MonthlyIncome >  23140.00\n",
      "|   |   |   |   |   |   |   |   |--- class: 1\n",
      "|   |   |   |   |   |   |--- MonthlyIncome >  28270.00\n",
      "|   |   |   |   |   |   |   |--- class: 0\n",
      "|   |   |   |   |   |--- PercentSalaryHike >  16.50\n",
      "|   |   |   |   |   |   |--- MonthlyIncome <= 30920.00\n",
      "|   |   |   |   |   |   |   |--- class: 0\n",
      "|   |   |   |   |   |   |--- MonthlyIncome >  30920.00\n",
      "|   |   |   |   |   |   |   |--- class: 1\n",
      "|   |   |   |   |--- MonthlyIncome >  42000.00\n",
      "|   |   |   |   |   |--- class: 0\n",
      "|   |   |   |--- MonthlyIncome >  50545.00\n",
      "|   |   |   |   |--- MonthlyIncome <= 65420.00\n",
      "|   |   |   |   |   |--- class: 1\n",
      "|   |   |   |   |--- MonthlyIncome >  65420.00\n",
      "|   |   |   |   |   |--- MonthlyIncome <= 90610.00\n",
      "|   |   |   |   |   |   |--- Age <= 19.50\n",
      "|   |   |   |   |   |   |   |--- class: 1\n",
      "|   |   |   |   |   |   |--- Age >  19.50\n",
      "|   |   |   |   |   |   |   |--- class: 0\n",
      "|   |   |   |   |   |--- MonthlyIncome >  90610.00\n",
      "|   |   |   |   |   |   |--- MonthlyIncome <= 112610.00\n",
      "|   |   |   |   |   |   |   |--- class: 1\n",
      "|   |   |   |   |   |   |--- MonthlyIncome >  112610.00\n",
      "|   |   |   |   |   |   |   |--- MonthlyIncome <= 155870.00\n",
      "|   |   |   |   |   |   |   |   |--- class: 0\n",
      "|   |   |   |   |   |   |   |--- MonthlyIncome >  155870.00\n",
      "|   |   |   |   |   |   |   |   |--- class: 1\n",
      "|   |   |--- MonthlyIncome >  182405.00\n",
      "|   |   |   |--- class: 0\n",
      "|   |--- Age >  21.50\n",
      "|   |   |--- MonthlyIncome <= 88380.00\n",
      "|   |   |   |--- MonthlyIncome <= 67110.00\n",
      "|   |   |   |   |--- Age <= 23.50\n",
      "|   |   |   |   |   |--- MonthlyIncome <= 25940.00\n",
      "|   |   |   |   |   |   |--- class: 0\n",
      "|   |   |   |   |   |--- MonthlyIncome >  25940.00\n",
      "|   |   |   |   |   |   |--- PercentSalaryHike <= 18.50\n",
      "|   |   |   |   |   |   |   |--- MonthlyIncome <= 48155.00\n",
      "|   |   |   |   |   |   |   |   |--- class: 0\n",
      "|   |   |   |   |   |   |   |--- MonthlyIncome >  48155.00\n",
      "|   |   |   |   |   |   |   |   |--- class: 1\n",
      "|   |   |   |   |   |   |--- PercentSalaryHike >  18.50\n",
      "|   |   |   |   |   |   |   |--- MonthlyIncome <= 42430.00\n",
      "|   |   |   |   |   |   |   |   |--- class: 1\n",
      "|   |   |   |   |   |   |   |--- MonthlyIncome >  42430.00\n",
      "|   |   |   |   |   |   |   |   |--- class: 0\n",
      "|   |   |   |   |--- Age >  23.50\n",
      "|   |   |   |   |   |--- MonthlyIncome <= 29065.00\n",
      "|   |   |   |   |   |   |--- MonthlyIncome <= 28600.00\n",
      "|   |   |   |   |   |   |   |--- MonthlyIncome <= 27495.00\n",
      "|   |   |   |   |   |   |   |   |--- class: 0\n",
      "|   |   |   |   |   |   |   |--- MonthlyIncome >  27495.00\n",
      "|   |   |   |   |   |   |   |   |--- class: 0\n",
      "|   |   |   |   |   |   |--- MonthlyIncome >  28600.00\n",
      "|   |   |   |   |   |   |   |--- PercentSalaryHike <= 15.50\n",
      "|   |   |   |   |   |   |   |   |--- class: 1\n",
      "|   |   |   |   |   |   |   |--- PercentSalaryHike >  15.50\n",
      "|   |   |   |   |   |   |   |   |--- class: 0\n",
      "|   |   |   |   |   |--- MonthlyIncome >  29065.00\n",
      "|   |   |   |   |   |   |--- PercentSalaryHike <= 22.50\n",
      "|   |   |   |   |   |   |   |--- MonthlyIncome <= 47670.00\n",
      "|   |   |   |   |   |   |   |   |--- class: 0\n",
      "|   |   |   |   |   |   |   |--- MonthlyIncome >  47670.00\n",
      "|   |   |   |   |   |   |   |   |--- class: 0\n",
      "|   |   |   |   |   |   |--- PercentSalaryHike >  22.50\n",
      "|   |   |   |   |   |   |   |--- Age <= 28.50\n",
      "|   |   |   |   |   |   |   |   |--- class: 0\n",
      "|   |   |   |   |   |   |   |--- Age >  28.50\n",
      "|   |   |   |   |   |   |   |   |--- class: 1\n",
      "|   |   |   |--- MonthlyIncome >  67110.00\n",
      "|   |   |   |   |--- MonthlyIncome <= 72930.00\n",
      "|   |   |   |   |   |--- Age <= 28.50\n",
      "|   |   |   |   |   |   |--- MonthlyIncome <= 68530.00\n",
      "|   |   |   |   |   |   |   |--- class: 0\n",
      "|   |   |   |   |   |   |--- MonthlyIncome >  68530.00\n",
      "|   |   |   |   |   |   |   |--- class: 1\n",
      "|   |   |   |   |   |--- Age >  28.50\n",
      "|   |   |   |   |   |   |--- Age <= 31.50\n",
      "|   |   |   |   |   |   |   |--- class: 1\n",
      "|   |   |   |   |   |   |--- Age >  31.50\n",
      "|   |   |   |   |   |   |   |--- Age <= 32.50\n",
      "|   |   |   |   |   |   |   |   |--- class: 0\n",
      "|   |   |   |   |   |   |   |--- Age >  32.50\n",
      "|   |   |   |   |   |   |   |   |--- class: 1\n",
      "|   |   |   |   |--- MonthlyIncome >  72930.00\n",
      "|   |   |   |   |   |--- Age <= 27.00\n",
      "|   |   |   |   |   |   |--- MonthlyIncome <= 83240.00\n",
      "|   |   |   |   |   |   |   |--- PercentSalaryHike <= 11.50\n",
      "|   |   |   |   |   |   |   |   |--- class: 0\n",
      "|   |   |   |   |   |   |   |--- PercentSalaryHike >  11.50\n",
      "|   |   |   |   |   |   |   |   |--- class: 1\n",
      "|   |   |   |   |   |   |--- MonthlyIncome >  83240.00\n",
      "|   |   |   |   |   |   |   |--- class: 0\n",
      "|   |   |   |   |   |--- Age >  27.00\n",
      "|   |   |   |   |   |   |--- MonthlyIncome <= 88080.00\n",
      "|   |   |   |   |   |   |   |--- MonthlyIncome <= 86015.00\n",
      "|   |   |   |   |   |   |   |   |--- class: 0\n",
      "|   |   |   |   |   |   |   |--- MonthlyIncome >  86015.00\n",
      "|   |   |   |   |   |   |   |   |--- class: 0\n",
      "|   |   |   |   |   |   |--- MonthlyIncome >  88080.00\n",
      "|   |   |   |   |   |   |   |--- class: 1\n",
      "|   |   |--- MonthlyIncome >  88380.00\n",
      "|   |   |   |--- PercentSalaryHike <= 19.50\n",
      "|   |   |   |   |--- PercentSalaryHike <= 12.50\n",
      "|   |   |   |   |   |--- MonthlyIncome <= 108760.00\n",
      "|   |   |   |   |   |   |--- class: 0\n",
      "|   |   |   |   |   |--- MonthlyIncome >  108760.00\n",
      "|   |   |   |   |   |   |--- MonthlyIncome <= 110175.00\n",
      "|   |   |   |   |   |   |   |--- class: 1\n",
      "|   |   |   |   |   |   |--- MonthlyIncome >  110175.00\n",
      "|   |   |   |   |   |   |   |--- MonthlyIncome <= 152595.00\n",
      "|   |   |   |   |   |   |   |   |--- class: 0\n",
      "|   |   |   |   |   |   |   |--- MonthlyIncome >  152595.00\n",
      "|   |   |   |   |   |   |   |   |--- class: 0\n",
      "|   |   |   |   |--- PercentSalaryHike >  12.50\n",
      "|   |   |   |   |   |--- MonthlyIncome <= 197020.00\n",
      "|   |   |   |   |   |   |--- PercentSalaryHike <= 13.50\n",
      "|   |   |   |   |   |   |   |--- Age <= 23.50\n",
      "|   |   |   |   |   |   |   |   |--- class: 1\n",
      "|   |   |   |   |   |   |   |--- Age >  23.50\n",
      "|   |   |   |   |   |   |   |   |--- class: 0\n",
      "|   |   |   |   |   |   |--- PercentSalaryHike >  13.50\n",
      "|   |   |   |   |   |   |   |--- MonthlyIncome <= 103995.00\n",
      "|   |   |   |   |   |   |   |   |--- class: 0\n",
      "|   |   |   |   |   |   |   |--- MonthlyIncome >  103995.00\n",
      "|   |   |   |   |   |   |   |   |--- class: 0\n",
      "|   |   |   |   |   |--- MonthlyIncome >  197020.00\n",
      "|   |   |   |   |   |   |--- class: 1\n",
      "|   |   |   |--- PercentSalaryHike >  19.50\n",
      "|   |   |   |   |--- class: 0\n",
      "|--- Age >  33.50\n",
      "|   |--- MonthlyIncome <= 10300.00\n",
      "|   |   |--- class: 1\n",
      "|   |--- MonthlyIncome >  10300.00\n",
      "|   |   |--- MonthlyIncome <= 67975.00\n",
      "|   |   |   |--- MonthlyIncome <= 67450.00\n",
      "|   |   |   |   |--- MonthlyIncome <= 54700.00\n",
      "|   |   |   |   |   |--- MonthlyIncome <= 50155.00\n",
      "|   |   |   |   |   |   |--- MonthlyIncome <= 50080.00\n",
      "|   |   |   |   |   |   |   |--- MonthlyIncome <= 42780.00\n",
      "|   |   |   |   |   |   |   |   |--- class: 0\n",
      "|   |   |   |   |   |   |   |--- MonthlyIncome >  42780.00\n",
      "|   |   |   |   |   |   |   |   |--- class: 0\n",
      "|   |   |   |   |   |   |--- MonthlyIncome >  50080.00\n",
      "|   |   |   |   |   |   |   |--- class: 1\n",
      "|   |   |   |   |   |--- MonthlyIncome >  50155.00\n",
      "|   |   |   |   |   |   |--- PercentSalaryHike <= 23.00\n",
      "|   |   |   |   |   |   |   |--- class: 0\n",
      "|   |   |   |   |   |   |--- PercentSalaryHike >  23.00\n",
      "|   |   |   |   |   |   |   |--- class: 1\n",
      "|   |   |   |   |--- MonthlyIncome >  54700.00\n",
      "|   |   |   |   |   |--- PercentSalaryHike <= 11.50\n",
      "|   |   |   |   |   |   |--- Age <= 43.00\n",
      "|   |   |   |   |   |   |   |--- Age <= 36.00\n",
      "|   |   |   |   |   |   |   |   |--- class: 1\n",
      "|   |   |   |   |   |   |   |--- Age >  36.00\n",
      "|   |   |   |   |   |   |   |   |--- class: 0\n",
      "|   |   |   |   |   |   |--- Age >  43.00\n",
      "|   |   |   |   |   |   |   |--- class: 1\n",
      "|   |   |   |   |   |--- PercentSalaryHike >  11.50\n",
      "|   |   |   |   |   |   |--- MonthlyIncome <= 56605.00\n",
      "|   |   |   |   |   |   |   |--- Age <= 39.00\n",
      "|   |   |   |   |   |   |   |   |--- class: 1\n",
      "|   |   |   |   |   |   |   |--- Age >  39.00\n",
      "|   |   |   |   |   |   |   |   |--- class: 0\n",
      "|   |   |   |   |   |   |--- MonthlyIncome >  56605.00\n",
      "|   |   |   |   |   |   |   |--- Age <= 57.50\n",
      "|   |   |   |   |   |   |   |   |--- class: 0\n",
      "|   |   |   |   |   |   |   |--- Age >  57.50\n",
      "|   |   |   |   |   |   |   |   |--- class: 0\n",
      "|   |   |   |--- MonthlyIncome >  67450.00\n",
      "|   |   |   |   |--- PercentSalaryHike <= 15.00\n",
      "|   |   |   |   |   |--- class: 1\n",
      "|   |   |   |   |--- PercentSalaryHike >  15.00\n",
      "|   |   |   |   |   |--- class: 0\n",
      "|   |   |--- MonthlyIncome >  67975.00\n",
      "|   |   |   |--- MonthlyIncome <= 134975.00\n",
      "|   |   |   |   |--- MonthlyIncome <= 108930.00\n",
      "|   |   |   |   |   |--- MonthlyIncome <= 108690.00\n",
      "|   |   |   |   |   |   |--- MonthlyIncome <= 74200.00\n",
      "|   |   |   |   |   |   |   |--- class: 0\n",
      "|   |   |   |   |   |   |--- MonthlyIncome >  74200.00\n",
      "|   |   |   |   |   |   |   |--- MonthlyIncome <= 74345.00\n",
      "|   |   |   |   |   |   |   |   |--- class: 1\n",
      "|   |   |   |   |   |   |   |--- MonthlyIncome >  74345.00\n",
      "|   |   |   |   |   |   |   |   |--- class: 0\n",
      "|   |   |   |   |   |--- MonthlyIncome >  108690.00\n",
      "|   |   |   |   |   |   |--- class: 1\n",
      "|   |   |   |   |--- MonthlyIncome >  108930.00\n",
      "|   |   |   |   |   |--- class: 0\n",
      "|   |   |   |--- MonthlyIncome >  134975.00\n",
      "|   |   |   |   |--- MonthlyIncome <= 135010.00\n",
      "|   |   |   |   |   |--- class: 1\n",
      "|   |   |   |   |--- MonthlyIncome >  135010.00\n",
      "|   |   |   |   |   |--- Age <= 46.50\n",
      "|   |   |   |   |   |   |--- MonthlyIncome <= 145835.00\n",
      "|   |   |   |   |   |   |   |--- Age <= 34.50\n",
      "|   |   |   |   |   |   |   |   |--- class: 1\n",
      "|   |   |   |   |   |   |   |--- Age >  34.50\n",
      "|   |   |   |   |   |   |   |   |--- class: 0\n",
      "|   |   |   |   |   |   |--- MonthlyIncome >  145835.00\n",
      "|   |   |   |   |   |   |   |--- Age <= 35.50\n",
      "|   |   |   |   |   |   |   |   |--- class: 0\n",
      "|   |   |   |   |   |   |   |--- Age >  35.50\n",
      "|   |   |   |   |   |   |   |   |--- class: 0\n",
      "|   |   |   |   |   |--- Age >  46.50\n",
      "|   |   |   |   |   |   |--- Age <= 52.50\n",
      "|   |   |   |   |   |   |   |--- MonthlyIncome <= 156970.00\n",
      "|   |   |   |   |   |   |   |   |--- class: 0\n",
      "|   |   |   |   |   |   |   |--- MonthlyIncome >  156970.00\n",
      "|   |   |   |   |   |   |   |   |--- class: 0\n",
      "|   |   |   |   |   |   |--- Age >  52.50\n",
      "|   |   |   |   |   |   |   |--- class: 0\n",
      "\n"
     ]
    }
   ],
   "source": [
    "r=export_text(tree_model,feature_names=feature)\n",
    "print(r)"
   ]
  },
  {
   "cell_type": "code",
   "execution_count": null,
   "metadata": {},
   "outputs": [],
   "source": []
  }
 ],
 "metadata": {
  "kernelspec": {
   "display_name": "Python 3",
   "language": "python",
   "name": "python3"
  },
  "language_info": {
   "codemirror_mode": {
    "name": "ipython",
    "version": 3
   },
   "file_extension": ".py",
   "mimetype": "text/x-python",
   "name": "python",
   "nbconvert_exporter": "python",
   "pygments_lexer": "ipython3",
   "version": "3.7.6"
  }
 },
 "nbformat": 4,
 "nbformat_minor": 4
}
