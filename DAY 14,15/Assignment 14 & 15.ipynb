{
 "cells": [
  {
   "cell_type": "markdown",
   "metadata": {},
   "source": [
    "# 1. Create a 3x3x3 array with random values"
   ]
  },
  {
   "cell_type": "code",
   "execution_count": 1,
   "metadata": {},
   "outputs": [
    {
     "data": {
      "text/plain": [
       "array([[[783, 668, 380],\n",
       "        [634, 699, 747],\n",
       "        [327, 285, 851]],\n",
       "\n",
       "       [[256, 203, 802],\n",
       "        [700,  67, 677],\n",
       "        [ 89, 628, 498]],\n",
       "\n",
       "       [[411, 151, 844],\n",
       "        [978,  18, 281],\n",
       "        [207, 866,  95]]])"
      ]
     },
     "execution_count": 1,
     "metadata": {},
     "output_type": "execute_result"
    }
   ],
   "source": [
    "import numpy as np\n",
    "randomArr= np.random.randint(1,999,size=(3,3,3))\n",
    "\n",
    "randomArr"
   ]
  },
  {
   "cell_type": "markdown",
   "metadata": {},
   "source": [
    "# 2.Create a 5x5 matrix with values 1,2,3,4 just below the diagonal"
   ]
  },
  {
   "cell_type": "code",
   "execution_count": 2,
   "metadata": {},
   "outputs": [
    {
     "data": {
      "text/plain": [
       "array([[0, 0, 0, 0, 0],\n",
       "       [1, 0, 0, 0, 0],\n",
       "       [0, 2, 0, 0, 0],\n",
       "       [0, 0, 3, 0, 0],\n",
       "       [0, 0, 0, 4, 0]])"
      ]
     },
     "execution_count": 2,
     "metadata": {},
     "output_type": "execute_result"
    }
   ],
   "source": [
    "arr=np.diag([1,2,3,4], -1)\n",
    "arr"
   ]
  },
  {
   "cell_type": "markdown",
   "metadata": {},
   "source": [
    "# 3.Create a 8x8 matrix and fill it with a checkerboard pattern"
   ]
  },
  {
   "cell_type": "code",
   "execution_count": 3,
   "metadata": {},
   "outputs": [
    {
     "name": "stdout",
     "output_type": "stream",
     "text": [
      "[[0. 1. 0. 1. 0. 1. 0. 1.]\n",
      " [1. 0. 1. 0. 1. 0. 1. 0.]\n",
      " [0. 1. 0. 1. 0. 1. 0. 1.]\n",
      " [1. 0. 1. 0. 1. 0. 1. 0.]\n",
      " [0. 1. 0. 1. 0. 1. 0. 1.]\n",
      " [1. 0. 1. 0. 1. 0. 1. 0.]\n",
      " [0. 1. 0. 1. 0. 1. 0. 1.]\n",
      " [1. 0. 1. 0. 1. 0. 1. 0.]]\n"
     ]
    }
   ],
   "source": [
    "arr=np.zeros((8,8))\n",
    "arr[1::2,::2] = 1\n",
    "arr[::2,1::2] = 1\n",
    "print(arr)"
   ]
  },
  {
   "cell_type": "markdown",
   "metadata": {},
   "source": [
    "# 4. Normalize a 5x5 random matrix"
   ]
  },
  {
   "cell_type": "code",
   "execution_count": 4,
   "metadata": {},
   "outputs": [
    {
     "name": "stdout",
     "output_type": "stream",
     "text": [
      "Original array is \n",
      " [[0.29185111 0.37905552 0.1883081  0.59187638 0.48480546]\n",
      " [0.09315297 0.13389073 0.5680391  0.10479074 0.65462846]\n",
      " [0.26743852 0.16181082 0.72096549 0.67784804 0.25280638]\n",
      " [0.00769267 0.14202833 0.04012104 0.3207353  0.82222474]\n",
      " [0.61067225 0.14399867 0.71357521 0.09560134 0.30784489]]\n",
      "Normalised array is \n",
      " [[0.31661768 0.41122229 0.20428798 0.64210318 0.5259462 ]\n",
      " [0.10488549 0.15075413 0.63958304 0.11798903 0.73707825]\n",
      " [0.25038181 0.15149083 0.67498369 0.63461619 0.23668287]\n",
      " [0.00859656 0.15871657 0.04483524 0.3584215  0.91883566]\n",
      " [0.60862043 0.14351484 0.71117764 0.09528013 0.30681055]]\n"
     ]
    }
   ],
   "source": [
    "arr1=np.random.random((5,5))\n",
    "print(\"Original array is \\n\",arr1)\n",
    "from sklearn.preprocessing import normalize\n",
    "arr2=normalize(arr1)\n",
    "print(\"Normalised array is \\n\",arr2)"
   ]
  },
  {
   "cell_type": "markdown",
   "metadata": {},
   "source": [
    "# 5. How to find common values between two arrays?"
   ]
  },
  {
   "cell_type": "code",
   "execution_count": 6,
   "metadata": {},
   "outputs": [
    {
     "name": "stdout",
     "output_type": "stream",
     "text": [
      "First array is \n",
      " [10 20 30 40 60]\n",
      "Second  array is \n",
      " [ 20  40  60  80 100]\n",
      "Common elements are  [20 40 60]\n"
     ]
    }
   ],
   "source": [
    "arr3=np.array([10,20,30,40,60])\n",
    "print(\"First array is \\n\",arr3)\n",
    "arr4=np.array([20,40,60,80,100])\n",
    "print(\"Second  array is \\n\",arr4)\n",
    "comarr=np.intersect1d (arr3, arr4)\n",
    "print(\"Common elements are \",comarr)"
   ]
  },
  {
   "cell_type": "markdown",
   "metadata": {},
   "source": [
    "# 6.How to get the dates of yesterday, today and tomorrow?"
   ]
  },
  {
   "cell_type": "code",
   "execution_count": 7,
   "metadata": {},
   "outputs": [
    {
     "name": "stdout",
     "output_type": "stream",
     "text": [
      "Yestraday:  2020-07-29\n",
      "Today:  2020-07-30\n",
      "Tomorrow:  2020-07-31\n"
     ]
    }
   ],
   "source": [
    "yesterday = np.datetime64('today', 'D') - np.timedelta64(1, 'D')\n",
    "print(\"Yestraday: \",yesterday)\n",
    "today     = np.datetime64('today', 'D')\n",
    "print(\"Today: \",today)\n",
    "tomorrow  = np.datetime64('today', 'D') + np.timedelta64(1, 'D')\n",
    "print(\"Tomorrow: \",tomorrow)"
   ]
  },
  {
   "cell_type": "markdown",
   "metadata": {},
   "source": [
    "# 7. Consider two random array A and B, check if they are equal"
   ]
  },
  {
   "cell_type": "code",
   "execution_count": 8,
   "metadata": {},
   "outputs": [
    {
     "name": "stdout",
     "output_type": "stream",
     "text": [
      "First array is\n",
      " [[5 6]\n",
      " [5 4]]\n",
      "Second array is\n",
      " [[2 6]\n",
      " [6 8]]\n",
      "Not equal \n"
     ]
    }
   ],
   "source": [
    "randomArr1= np.random.randint(1,10,size=(2,2))\n",
    "print(\"First array is\\n\",randomArr1)\n",
    "randomArr2= np.random.randint(1,10,size=(2,2))\n",
    "print(\"Second array is\\n\",randomArr2)\n",
    "if ((randomArr1==randomArr2).all()==True):\n",
    "    print(\"Equal \")\n",
    "else:\n",
    "    print(\"Not equal \")"
   ]
  },
  {
   "cell_type": "markdown",
   "metadata": {},
   "source": [
    "# 8.Create random vector of size 10 and replace the maximum value by 0"
   ]
  },
  {
   "cell_type": "code",
   "execution_count": 9,
   "metadata": {},
   "outputs": [
    {
     "name": "stdout",
     "output_type": "stream",
     "text": [
      "Random vector of size 10:\n",
      "\n",
      "[35 39  8 46  7  8 32 38 45 20]\n",
      "Vector after replacing the max value to 0 :\n",
      " [35 39  8  0  7  8 32 38 45 20]\n"
     ]
    }
   ],
   "source": [
    "print(\"Random vector of size 10:\\n\")\n",
    "vect= np.random.randint(1,50, size = 10)\n",
    "print(vect)\n",
    "vect[vect.argmax()]=0\n",
    "print(\"Vector after replacing the max value to 0 :\\n\",vect)"
   ]
  },
  {
   "cell_type": "markdown",
   "metadata": {},
   "source": [
    "# 9. How to print all the values of an array?"
   ]
  },
  {
   "cell_type": "code",
   "execution_count": 10,
   "metadata": {},
   "outputs": [
    {
     "name": "stdout",
     "output_type": "stream",
     "text": [
      "[ 0  1  2  3  4  5  6  7  8  9 10 11 12 13 14 15 16 17 18 19 20 21 22 23\n",
      " 24 25 26 27 28 29 30 31 32 33 34 35 36 37 38 39 40 41 42 43 44 45 46 47\n",
      " 48 49 50]\n"
     ]
    }
   ],
   "source": [
    "arr5 = np.arange(51)\n",
    "np.set_printoptions(threshold=np.inf)\n",
    "print(arr5)"
   ]
  },
  {
   "cell_type": "markdown",
   "metadata": {},
   "source": [
    "# 10.Subtract the mean of each row of a matrix"
   ]
  },
  {
   "cell_type": "code",
   "execution_count": 11,
   "metadata": {},
   "outputs": [
    {
     "name": "stdout",
     "output_type": "stream",
     "text": [
      "Original matrix:\n",
      "\n",
      "[[2 1 2 4]\n",
      " [2 2 1 1]\n",
      " [3 3 2 1]]\n",
      "\n",
      "Subtract the mean of each row of the matrix:\n",
      "\n",
      "[[-0.25 -1.25 -0.25  1.75]\n",
      " [ 0.5   0.5  -0.5  -0.5 ]\n",
      " [ 0.75  0.75 -0.25 -1.25]]\n"
     ]
    }
   ],
   "source": [
    "print(\"Original matrix:\\n\")\n",
    "arr6= np.random.randint(1,5,size=(3,4))\n",
    "print(arr6)\n",
    "print(\"\\nSubtract the mean of each row of the matrix:\\n\")\n",
    "arr7 = arr6-arr6.mean(axis=1, keepdims = True)\n",
    "print(arr7)"
   ]
  },
  {
   "cell_type": "markdown",
   "metadata": {},
   "source": [
    "# 11.Consider a given vector, how to add 1 to each element indexed by a second vector (be careful with repeated indices)?"
   ]
  },
  {
   "cell_type": "code",
   "execution_count": 12,
   "metadata": {},
   "outputs": [
    {
     "name": "stdout",
     "output_type": "stream",
     "text": [
      "Given vector: [6 7 2 2 5 5 2 6]\n",
      "Indexing vector: [0 1 1 1 1 3 3 5]\n",
      "Result: [7 8 2 3 5 6 2 6]\n"
     ]
    }
   ],
   "source": [
    "a = np.random.randint(1,8,8)\n",
    "print(\"Given vector:\", a)\n",
    "b = np.random.randint(a)\n",
    "c = []\n",
    "b.sort()\n",
    "for i in b:\n",
    "    if i not in c:\n",
    "        c.append(i)\n",
    "\n",
    "for j in c:\n",
    "    a[j] += 1\n",
    "\n",
    "print(\"Indexing vector:\", b)\n",
    "print(\"Result:\",a)"
   ]
  },
  {
   "cell_type": "markdown",
   "metadata": {},
   "source": [
    "# 12.How to get the diagonal of a dot product?"
   ]
  },
  {
   "cell_type": "code",
   "execution_count": 13,
   "metadata": {},
   "outputs": [
    {
     "data": {
      "text/plain": [
       "array([19, 50])"
      ]
     },
     "execution_count": 13,
     "metadata": {},
     "output_type": "execute_result"
    }
   ],
   "source": [
    "x= [[1,2],[3,4]]\n",
    "y = [[5,6],[7,8]]\n",
    "z = np.diag(np.dot(x,y))\n",
    "z"
   ]
  },
  {
   "cell_type": "markdown",
   "metadata": {},
   "source": [
    "# 13.How to find the most frequent value in an array?"
   ]
  },
  {
   "cell_type": "code",
   "execution_count": 14,
   "metadata": {},
   "outputs": [
    {
     "name": "stdout",
     "output_type": "stream",
     "text": [
      "Original array:\n",
      "[55 49 21 75  7  3 93  0 67 96  7 26 38 69 29 56 89 54 13 26 49  7 40 87\n",
      " 66 96 37 19 35 56]\n",
      "Most frequent value in the above array:\n",
      "7\n"
     ]
    }
   ],
   "source": [
    "arr8= np.random.randint(0, 100, 30)\n",
    "print(\"Original array:\")\n",
    "print(arr8)\n",
    "print(\"Most frequent value in the above array:\")\n",
    "print(np.bincount(arr8).argmax())"
   ]
  },
  {
   "cell_type": "markdown",
   "metadata": {},
   "source": [
    "# 14.How to get the n largest values of an array"
   ]
  },
  {
   "cell_type": "code",
   "execution_count": 15,
   "metadata": {},
   "outputs": [
    {
     "name": "stdout",
     "output_type": "stream",
     "text": [
      "Original array:\n",
      "[ 0  1  2  3  4  5  6  7  8  9 10 11 12 13 14 15 16 17 18 19 20 21 22 23\n",
      " 24 25 26 27 28 29 30 31 32 33 34 35 36 37 38 39 40 41 42 43 44 45 46 47\n",
      " 48 49 50 51 52 53 54 55 56 57 58 59 60 61 62 63 64 65 66 67 68 69 70 71\n",
      " 72 73 74 75 76 77 78 79 80 81 82 83 84 85 86 87 88 89 90 91 92 93 94 95\n",
      " 96 97 98]\n",
      "[98]\n"
     ]
    }
   ],
   "source": [
    "x = np.arange(99)\n",
    "print(\"Original array:\")\n",
    "print(x)\n",
    "np.random.shuffle(x)\n",
    "n = 1\n",
    "print (x[np.argsort(x)[-n:]])"
   ]
  },
  {
   "cell_type": "markdown",
   "metadata": {},
   "source": [
    "# 15.How to create a record array from a regular array?"
   ]
  },
  {
   "cell_type": "code",
   "execution_count": 16,
   "metadata": {},
   "outputs": [
    {
     "name": "stdout",
     "output_type": "stream",
     "text": [
      "('Veggie', 'color')\n",
      "('Tomatoes', 'Red')\n",
      "('Chilli ', 'Green')\n",
      "('Carrot', 'Orange')\n",
      "('Lemon', 'Yellow')\n"
     ]
    }
   ],
   "source": [
    "a1=np.array(['Veggie','Tomatoes','Chilli ','Carrot','Lemon'])\n",
    "a2=np.array(['color','Red','Green','Orange','Yellow'])\n",
    "result= np.core.records.fromarrays([a1, a2])\n",
    "print(result[0])\n",
    "print(result[1])\n",
    "print(result[2])\n",
    "print(result[3])\n",
    "print(result[4])"
   ]
  },
  {
   "cell_type": "code",
   "execution_count": null,
   "metadata": {},
   "outputs": [],
   "source": []
  }
 ],
 "metadata": {
  "kernelspec": {
   "display_name": "Python 3",
   "language": "python",
   "name": "python3"
  },
  "language_info": {
   "codemirror_mode": {
    "name": "ipython",
    "version": 3
   },
   "file_extension": ".py",
   "mimetype": "text/x-python",
   "name": "python",
   "nbconvert_exporter": "python",
   "pygments_lexer": "ipython3",
   "version": "3.7.6"
  }
 },
 "nbformat": 4,
 "nbformat_minor": 4
}
